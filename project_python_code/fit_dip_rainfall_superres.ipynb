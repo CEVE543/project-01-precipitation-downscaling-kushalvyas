{
 "cells": [
  {
   "cell_type": "markdown",
   "metadata": {},
   "source": [
    "## Spatial Rainfall Super resolution using untrained networks"
   ]
  },
  {
   "cell_type": "code",
   "execution_count": null,
   "metadata": {},
   "outputs": [],
   "source": [
    "%load_ext autoreload\n",
    "%autoreload 2"
   ]
  },
  {
   "cell_type": "code",
   "execution_count": null,
   "metadata": {},
   "outputs": [],
   "source": [
    "%matplotlib inline"
   ]
  },
  {
   "cell_type": "code",
   "execution_count": null,
   "metadata": {},
   "outputs": [],
   "source": [
    "import torch\n",
    "import torch.nn as nn\n",
    "import numpy as np\n",
    "import os, os.path as osp\n",
    "import data_utils\n",
    "from matplotlib import pyplot as plt\n",
    "import models\n",
    "from copy import deepcopy\n",
    "import dip\n",
    "import metrics\n",
    "import vis\n",
    "import utils\n",
    "from tqdm.notebook import tqdm"
   ]
  },
  {
   "cell_type": "code",
   "execution_count": null,
   "metadata": {},
   "outputs": [],
   "source": [
    "# torch.random.manual_seed(7) # for reproduction"
   ]
  },
  {
   "cell_type": "code",
   "execution_count": null,
   "metadata": {},
   "outputs": [],
   "source": [
    "os.environ['CUDA_VISIBLE_DEVICES']='2'"
   ]
  },
  {
   "cell_type": "code",
   "execution_count": null,
   "metadata": {},
   "outputs": [],
   "source": [
    "device = torch.device('cuda') if torch.cuda.is_available() else torch.device('cpu')"
   ]
  },
  {
   "cell_type": "code",
   "execution_count": null,
   "metadata": {},
   "outputs": [],
   "source": [
    "path_to_temp_file=\"./data/gt/precip_tx.nc\"\n",
    "KEY = \"precip\""
   ]
  },
  {
   "cell_type": "code",
   "execution_count": null,
   "metadata": {},
   "outputs": [],
   "source": [
    "inp_data_temp = data_utils.read_ncdf_precip(path_to_temp_file)\n",
    "idx = 8682\n",
    "# idx=  8682+10\n",
    "# idx=8683\n",
    "\n",
    "plt.figure()\n",
    "plt.imshow(inp_data_temp[\"precip\"][idx,...]);plt.colorbar()\n",
    "plt.show()\n",
    "\n"
   ]
  },
  {
   "cell_type": "code",
   "execution_count": null,
   "metadata": {},
   "outputs": [],
   "source": [
    "inp_data_temp[\"precip\"][idx,...].shape"
   ]
  },
  {
   "cell_type": "code",
   "execution_count": null,
   "metadata": {},
   "outputs": [],
   "source": [
    "# define all CONSTANTS AND FLAGS\n",
    "IN_CHANNELS=16\n",
    "OUT_CHANNELS=1\n",
    "USE_RANDOM_NOISE=True\n",
    "USE_GUIDANCE = (not USE_RANDOM_NOISE)\n",
    "SR_FACTOR = 8\n",
    "LR_RES = inp_data_temp[\"precip\"][idx,...].shape\n",
    "HR_RES = (LR_RES[0]*SR_FACTOR, LR_RES[1]*SR_FACTOR)\n",
    "z_noise_var = 0.01"
   ]
  },
  {
   "cell_type": "code",
   "execution_count": null,
   "metadata": {},
   "outputs": [],
   "source": [
    "PLOT_EVERY=500\n",
    "LEARNING_RATE = 1e-3\n",
    "NUM_EPOCHS = 4000*(int(np.log2(SR_FACTOR))-1) # sets an upper bound on number of iterations.\n",
    "RESET_THRESHOLD = 5"
   ]
  },
  {
   "cell_type": "code",
   "execution_count": null,
   "metadata": {},
   "outputs": [],
   "source": [
    "if USE_RANDOM_NOISE:\n",
    "    inp_tensor = torch.randn(1, IN_CHANNELS, HR_RES[0], HR_RES[1]).float().to(device)\n",
    "elif USE_GUIDANCE:\n",
    "    IN_CHANNELS = 1\n",
    "    inp_np_img = data_utils.get_guidance_tensor(idx=idx, size=HR_RES)\n",
    "    inp_tensor = torch.from_numpy(utils.normalize(inp_np_img))[None, None,...].float().to(device)"
   ]
  },
  {
   "cell_type": "code",
   "execution_count": null,
   "metadata": {},
   "outputs": [],
   "source": [
    "# define data\n",
    "inp_low_res_rainfall = inp_data_temp[KEY][idx,:48, :128]\n",
    "low_res_gt_tensor = torch.from_numpy(inp_low_res_rainfall)[None, None,...].float().to(device)#torch.ones(1, 1, 256,256).float().to(device)\n",
    "low_res_gt_tensor = (low_res_gt_tensor - low_res_gt_tensor.min())/(low_res_gt_tensor.max() -low_res_gt_tensor.min())"
   ]
  },
  {
   "cell_type": "code",
   "execution_count": null,
   "metadata": {},
   "outputs": [],
   "source": [
    "inp_data_temp[KEY].shape"
   ]
  },
  {
   "cell_type": "code",
   "execution_count": null,
   "metadata": {},
   "outputs": [],
   "source": [
    "model = dip.DIP(num_in_channels=IN_CHANNELS, num_out_channels=OUT_CHANNELS).float().to(device)"
   ]
  },
  {
   "cell_type": "code",
   "execution_count": null,
   "metadata": {},
   "outputs": [],
   "source": [
    "optim = torch.optim.Adam(lr=LEARNING_RATE,  params=model.parameters())"
   ]
  },
  {
   "cell_type": "code",
   "execution_count": null,
   "metadata": {},
   "outputs": [],
   "source": [
    "loss_history = []\n",
    "psnr_history = []\n",
    "best_model_score = -np.inf\n",
    "best_model_weights = None\n",
    "reset_counter = 0"
   ]
  },
  {
   "cell_type": "code",
   "execution_count": null,
   "metadata": {},
   "outputs": [],
   "source": [
    "downsampler = nn.AvgPool2d(SR_FACTOR).to(device)\n",
    "pbar = tqdm(range(NUM_EPOCHS))\n",
    "for i in pbar:\n",
    "    optim.zero_grad()\n",
    "    # z_noise = torch.randn_like(inp_tensor)*z_noise_var\n",
    "    out = model(inp_tensor)\n",
    "    downsampled = downsampler(out)\n",
    "    loss = ((downsampled-low_res_gt_tensor)**2).mean()\n",
    "    loss.backward()\n",
    "    optim.step()\n",
    "    loss_history.append(loss.item())\n",
    "\n",
    "    curr_psnr = metrics.psnr(downsampled.clone().detach().cpu().numpy()[0,0], low_res_gt_tensor.clone().detach().cpu().numpy()[0,0])\n",
    "    psnr_history.append(curr_psnr)\n",
    "    if curr_psnr > best_model_score:\n",
    "        reset_counter = 0\n",
    "        best_model_score = curr_psnr\n",
    "        best_model_weights = deepcopy(model.state_dict())\n",
    "    # else:\n",
    "    #     reset_counter += 1\n",
    "    \n",
    "    # if reset_counter == RESET_THRESHOLD:\n",
    "    #     optim.zero_grad()\n",
    "    #     model.load_state_dict(best_model_weights)\n",
    "    #     optim = torch.optim.Adam(lr=LEARNING_RATE, params=model.parameters())\n",
    "    #     reset_counter = 0\n",
    "    \n",
    "    pbar.set_description(f\"Loss = {loss.item():.6f} PSNR = {curr_psnr:.6f}\")\n",
    "    pbar.refresh()\n",
    "    if i%PLOT_EVERY == 0:\n",
    "        utils.plot_sr_results(inp_tensor, out, low_res_gt_tensor, LR_RES, HR_RES)"
   ]
  },
  {
   "cell_type": "code",
   "execution_count": null,
   "metadata": {},
   "outputs": [],
   "source": [
    "out.clone().detach().cpu().numpy()[0,0].shape, low_res_gt_tensor.clone().detach().cpu().numpy()[0,0].shape"
   ]
  },
  {
   "cell_type": "code",
   "execution_count": null,
   "metadata": {},
   "outputs": [],
   "source": [
    "plt.figure()\n",
    "plt.plot(loss_history)\n",
    "plt.title(\"Loss History\")\n",
    "plt.show()"
   ]
  },
  {
   "cell_type": "code",
   "execution_count": null,
   "metadata": {},
   "outputs": [],
   "source": [
    "def plot_sr(hr, lr):\n",
    "    plt.figure(dpi=200)\n",
    "    plt.subplot(121)\n",
    "    plt.imshow(utils.tensor2im(hr))\n",
    "    plt.subplot(122)\n",
    "    plt.imshow(utils.tensor2im(lr))\n",
    "    plt.tight_layout()\n",
    "    plt.show()\n"
   ]
  },
  {
   "cell_type": "code",
   "execution_count": null,
   "metadata": {},
   "outputs": [],
   "source": [
    "bilinear_upscaled = utils.get_baseline_bilinear(inp_low_res_rainfall, HR_RES)"
   ]
  },
  {
   "cell_type": "code",
   "execution_count": null,
   "metadata": {},
   "outputs": [],
   "source": [
    "\n",
    "def plot_sr_results_np(x, y, z, titles=None):\n",
    "    fig, ax = plt.subplots(1, 3, dpi=200)\n",
    "    if titles is None:\n",
    "        titles = [\"\",\"\",\"\"]\n",
    "    for _i, (_a, _t) in enumerate(zip([x,y,z], titles)):\n",
    "        print(_a.shape)\n",
    "        ax[_i].imshow(_a)\n",
    "        ax[_i].set_title(_t)\n",
    "        ax[_i].axis('off')\n",
    "    plt.suptitle(f\"Super resolution {SR_FACTOR}x\")\n",
    "    plt.tight_layout()\n",
    "    plt.show()\n",
    "\n",
    "    "
   ]
  },
  {
   "cell_type": "code",
   "execution_count": null,
   "metadata": {},
   "outputs": [],
   "source": [
    "import vis\n",
    "vis.plot_sr_results_np(bilinear_upscaled, utils.tensor2im(out), utils.tensor2im(low_res_gt_tensor), titles=[\"Bilinear Scaled\", 'Ours', 'Low-res Precipitation'], suptitle=f\"Super resolution {SR_FACTOR}x\")"
   ]
  },
  {
   "cell_type": "code",
   "execution_count": null,
   "metadata": {},
   "outputs": [],
   "source": [
    "vis.plot_sr_results_np(bilinear_upscaled, utils.tensor2im(out), utils.tensor2im(low_res_gt_tensor), \n",
    "                       titles=[\"Bilinear Scaled\", 'Ours', 'Low-res Precipitation'], suptitle=f\"Super resolution {SR_FACTOR}x\",\n",
    "                       save=f\"./results/results_{idx}_superres_{SR_FACTOR}x_guidance_{USE_GUIDANCE}.png\")"
   ]
  },
  {
   "cell_type": "code",
   "execution_count": null,
   "metadata": {},
   "outputs": [],
   "source": [
    "# save all results\n",
    "utils.save_single_image(f\"./results/bilinear_results_{idx}_superres_{SR_FACTOR}x_guidance_{USE_GUIDANCE}.png\", bilinear_upscaled)\n",
    "utils.save_single_image(f\"./results/dip_results_{idx}_superres_{SR_FACTOR}x_guidance_{USE_GUIDANCE}.png\", utils.tensor2im(out))\n",
    "utils.save_single_image(f\"./results/input_lowres_{idx}_superres_{SR_FACTOR}x_guidance_{USE_GUIDANCE}.png\", utils.tensor2im(low_res_gt_tensor))\n",
    "# cv2.imwrite(\"./results/bilinear_results_{idx}_superres_{SR_FACTOR}x_guidance_{USE_GUIDANCE}.png\", bilinear_upscaled)\n",
    "# cv2.imwrite( \"./results/dip_results_{idx}_superres_{SR_FACTOR}x_guidance_{USE_GUIDANCE}.png\", utils.tensor2im(out))\n",
    "# cv2.imwrite( \"./results/input_lowres_{idx}_superres_{SR_FACTOR}x_guidance_{USE_GUIDANCE}.png\", utils.tensor2im(low_res_gt_tensor))"
   ]
  },
  {
   "cell_type": "code",
   "execution_count": null,
   "metadata": {},
   "outputs": [],
   "source": []
  },
  {
   "cell_type": "code",
   "execution_count": null,
   "metadata": {},
   "outputs": [],
   "source": []
  }
 ],
 "metadata": {
  "kernelspec": {
   "display_name": "Python 3",
   "language": "python",
   "name": "python3"
  },
  "language_info": {
   "codemirror_mode": {
    "name": "ipython",
    "version": 3
   },
   "file_extension": ".py",
   "mimetype": "text/x-python",
   "name": "python",
   "nbconvert_exporter": "python",
   "pygments_lexer": "ipython3",
   "version": "3.10.12"
  }
 },
 "nbformat": 4,
 "nbformat_minor": 2
}
